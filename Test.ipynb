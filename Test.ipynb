{
 "cells": [
  {
   "metadata": {
    "ExecuteTime": {
     "end_time": "2025-03-17T09:11:22.533160Z",
     "start_time": "2025-03-17T09:11:22.502542Z"
    }
   },
   "cell_type": "code",
   "source": "import torch",
   "id": "ef15548b357265e5",
   "outputs": [],
   "execution_count": 9
  },
  {
   "metadata": {
    "ExecuteTime": {
     "end_time": "2025-03-17T09:23:25.036018Z",
     "start_time": "2025-03-17T09:23:25.012080Z"
    }
   },
   "cell_type": "code",
   "source": [
    "w = torch.tensor(2.0, requires_grad=True, dtype=torch.float)\n",
    "b = torch.tensor(-1.0, requires_grad=True, dtype=torch.float)\n",
    "\n",
    "def forward(x):\n",
    "    y = w * x + b\n",
    "    return y\n",
    "\n",
    "x = torch.tensor([[1.0],[2.0]])\n",
    "yhat = forward(x)\n",
    "print(yhat)\n"
   ],
   "id": "f7f6dfe2d1af6bbb",
   "outputs": [
    {
     "name": "stdout",
     "output_type": "stream",
     "text": [
      "tensor([[1.],\n",
      "        [3.]], grad_fn=<AddBackward0>)\n"
     ]
    }
   ],
   "execution_count": 18
  },
  {
   "metadata": {
    "ExecuteTime": {
     "end_time": "2025-03-17T09:25:03.397658Z",
     "start_time": "2025-03-17T09:25:03.313889Z"
    }
   },
   "cell_type": "code",
   "source": [
    "## class linear (Package)\n",
    "from torch.nn import Linear\n",
    "model = Linear(in_features=1, out_features=1)\n",
    "torch.manual_seed(1)"
   ],
   "id": "b5a793e66c453bbd",
   "outputs": [
    {
     "ename": "ImportError",
     "evalue": "cannot import name 'linear' from 'torch.nn' (C:\\Users\\Farhang\\Documents\\work & future\\DataAnalysis\\Project\\Black_friday\\.venv\\lib\\site-packages\\torch\\nn\\__init__.py)",
     "output_type": "error",
     "traceback": [
      "\u001B[1;31m---------------------------------------------------------------------------\u001B[0m",
      "\u001B[1;31mImportError\u001B[0m                               Traceback (most recent call last)",
      "Cell \u001B[1;32mIn[19], line 2\u001B[0m\n\u001B[0;32m      1\u001B[0m \u001B[38;5;66;03m## class linear (Package)\u001B[39;00m\n\u001B[1;32m----> 2\u001B[0m \u001B[38;5;28;01mfrom\u001B[39;00m\u001B[38;5;250m \u001B[39m\u001B[38;5;21;01mtorch\u001B[39;00m\u001B[38;5;21;01m.\u001B[39;00m\u001B[38;5;21;01mnn\u001B[39;00m\u001B[38;5;250m \u001B[39m\u001B[38;5;28;01mimport\u001B[39;00m linear\n",
      "\u001B[1;31mImportError\u001B[0m: cannot import name 'linear' from 'torch.nn' (C:\\Users\\Farhang\\Documents\\work & future\\DataAnalysis\\Project\\Black_friday\\.venv\\lib\\site-packages\\torch\\nn\\__init__.py)"
     ]
    }
   ],
   "execution_count": 19
  },
  {
   "metadata": {},
   "cell_type": "code",
   "outputs": [],
   "execution_count": null,
   "source": "",
   "id": "20333443e027b286"
  }
 ],
 "metadata": {
  "kernelspec": {
   "display_name": "Python 3",
   "language": "python",
   "name": "python3"
  },
  "language_info": {
   "codemirror_mode": {
    "name": "ipython",
    "version": 2
   },
   "file_extension": ".py",
   "mimetype": "text/x-python",
   "name": "python",
   "nbconvert_exporter": "python",
   "pygments_lexer": "ipython2",
   "version": "2.7.6"
  }
 },
 "nbformat": 4,
 "nbformat_minor": 5
}
